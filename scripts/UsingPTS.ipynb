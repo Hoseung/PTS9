{
 "cells": [
  {
   "cell_type": "markdown",
   "metadata": {},
   "source": [
    "### Activate PTS"
   ]
  },
  {
   "cell_type": "code",
   "execution_count": 1,
   "metadata": {},
   "outputs": [],
   "source": [
    "from pts.do.prompt import do\n",
    "#%matplotlib inline\n",
    "#%matplotlib notebook\n",
    "import matplotlib\n",
    "matplotlib.use(\"Qt5Agg\")\n",
    "import matplotlib.pyplot as plt\n",
    "import logging # This is a Python standard package.\n",
    "import pts.simulation as sm\n",
    "import pts.utils as ut\n",
    "import pts.visual as vis\n",
    "import pts.do\n",
    "import numpy as np\n",
    "#pts.do.initializePTS()"
   ]
  },
  {
   "cell_type": "code",
   "execution_count": 2,
   "metadata": {},
   "outputs": [],
   "source": [
    "num=4\n",
    "repo = f\"/home/hoseung/Work/data/NH/mock_recipe_test/runs/test{num}/\"\n",
    "fname = f\"try{num}.ski\""
   ]
  },
  {
   "cell_type": "markdown",
   "metadata": {},
   "source": [
    "## Detecting 'important' peaks and overall shape"
   ]
  },
  {
   "cell_type": "code",
   "execution_count": 3,
   "metadata": {},
   "outputs": [],
   "source": [
    "from pts import band"
   ]
  },
  {
   "cell_type": "code",
   "execution_count": 68,
   "metadata": {
    "collapsed": true
   },
   "outputs": [
    {
     "name": "stdout",
     "output_type": "stream",
     "text": [
      "# peaks = 9\n",
      "There're 3 extrema\n",
      "# peaks = 18\n",
      "There're 10 extrema\n",
      "# peaks = 5\n",
      "There're 4 extrema\n",
      "# peaks = 0\n",
      "There're 5 extrema\n",
      "# peaks = 0\n",
      "There're 5 extrema\n",
      "# peaks = 1\n",
      "There're 2 extrema\n",
      "# peaks = 3\n",
      "There're 2 extrema\n",
      "# peaks = 11\n",
      "There're 3 extrema\n",
      "# peaks = 8\n",
      "There're 2 extrema\n",
      "# peaks = 4\n",
      "There're 2 extrema\n",
      "# peaks = 3\n",
      "There're 2 extrema\n",
      "# peaks = 5\n",
      "There're 2 extrema\n",
      "# peaks = 0\n",
      "There're 15 extrema\n",
      "# peaks = 0\n",
      "There're 6 extrema\n",
      "# peaks = 0\n",
      "There're 5 extrema\n",
      "# peaks = 1\n",
      "There're 9 extrema\n",
      "# peaks = 0\n",
      "There're 6 extrema\n",
      "# peaks = 7\n",
      "There're 6 extrema\n",
      "# peaks = 2\n",
      "There're 2 extrema\n",
      "# peaks = 7\n",
      "There're 2 extrema\n",
      "# peaks = 6\n",
      "There're 3 extrema\n",
      "# peaks = 4\n",
      "There're 2 extrema\n",
      "# peaks = 3\n",
      "There're 3 extrema\n",
      "# peaks = 4\n",
      "There're 7 extrema\n",
      "# peaks = 1\n",
      "There're 3 extrema\n",
      "# peaks = 3\n",
      "There're 2 extrema\n",
      "# peaks = 2\n",
      "There're 4 extrema\n",
      "# peaks = 0\n",
      "There're 12 extrema\n",
      "# peaks = 0\n",
      "There're 12 extrema\n",
      "# peaks = 0\n",
      "There're 8 extrema\n",
      "# peaks = 0\n",
      "There're 13 extrema\n",
      "# peaks = 0\n",
      "There're 8 extrema\n",
      "# peaks = 2\n",
      "There're 6 extrema\n",
      "# peaks = 0\n",
      "There're 2 extrema\n",
      "# peaks = 2\n",
      "There're 8 extrema\n",
      "# peaks = 0\n",
      "There're 2 extrema\n",
      "# peaks = 0\n",
      "There're 3 extrema\n",
      "# peaks = 0\n",
      "There're 4 extrema\n",
      "# peaks = 9\n",
      "There're 9 extrema\n",
      "# peaks = 0\n",
      "There're 3 extrema\n",
      "# peaks = 0\n",
      "There're 5 extrema\n",
      "# peaks = 0\n",
      "There're 5 extrema\n",
      "# peaks = 0\n",
      "There're 7 extrema\n",
      "# peaks = 1\n",
      "There're 3 extrema\n",
      "# peaks = 2\n",
      "There're 2 extrema\n",
      "# peaks = 0\n",
      "There're 2 extrema\n",
      "# peaks = 1\n",
      "There're 2 extrema\n",
      "# peaks = 21\n",
      "There're 60 extrema\n",
      "# peaks = 2\n",
      "There're 26 extrema\n",
      "# peaks = 51\n",
      "There're 110 extrema\n",
      "# peaks = 0\n",
      "There're 2 extrema\n",
      "# peaks = 0\n",
      "There're 11 extrema\n",
      "# peaks = 4\n",
      "There're 8 extrema\n",
      "# peaks = 0\n",
      "There're 8 extrema\n",
      "# peaks = 0\n",
      "There're 29 extrema\n",
      "# peaks = 0\n",
      "There're 22 extrema\n",
      "# peaks = 0\n",
      "There're 4 extrema\n",
      "# peaks = 0\n",
      "There're 7 extrema\n",
      "# peaks = 7\n",
      "There're 17 extrema\n",
      "# peaks = 23\n",
      "There're 24 extrema\n",
      "# peaks = 38\n",
      "There're 18 extrema\n",
      "# peaks = 13\n",
      "There're 12 extrema\n",
      "# peaks = 18\n",
      "There're 25 extrema\n",
      "# peaks = 14\n",
      "There're 14 extrema\n",
      "# peaks = 7\n",
      "There're 22 extrema\n",
      "# peaks = 5\n",
      "There're 72 extrema\n",
      "# peaks = 0\n",
      "There're 121 extrema\n",
      "# peaks = 1\n",
      "There're 7 extrema\n",
      "# peaks = 4\n",
      "There're 10 extrema\n",
      "# peaks = 5\n",
      "There're 14 extrema\n",
      "# peaks = 32\n",
      "There're 32 extrema\n",
      "# peaks = 17\n",
      "There're 39 extrema\n",
      "# peaks = 21\n",
      "There're 35 extrema\n",
      "# peaks = 31\n",
      "There're 43 extrema\n",
      "# peaks = 43\n",
      "There're 61 extrema\n"
     ]
    }
   ],
   "source": [
    "thres = 0.05\n",
    "for bname in band.builtinBandNames():\n",
    "    bd = band.broadband.BroadBand(bname)\n",
    "    xx, tt = bd.transmissionCurve()\n",
    "    filtered = savgol_filter(tt, min((17, 2*int(np.floor(len(xx)/2))-3)), 3)\n",
    "    frac = (filtered - tt.value)/tt.value.ptp()\n",
    "    ind = np.where(frac > thres)[0]\n",
    "    print(\"# peaks =\", len(ind))\n",
    "    extreme = np.where(local_extrema(filtered))[0]\n",
    "    print(\"There're {:d} extrema\".format(len(extreme)))\n",
    "    plt.plot(xx,tt)\n",
    "    plt.plot(xx,filtered)\n",
    "    plt.scatter(xx[ind], tt[ind])\n",
    "    plt.savefig(bname+\".png\")\n",
    "    plt.close()\n"
   ]
  },
  {
   "cell_type": "code",
   "execution_count": 7,
   "metadata": {},
   "outputs": [],
   "source": []
  },
  {
   "cell_type": "code",
   "execution_count": 10,
   "metadata": {},
   "outputs": [],
   "source": [
    "from scipy.signal import savgol_filter"
   ]
  },
  {
   "cell_type": "code",
   "execution_count": 15,
   "metadata": {},
   "outputs": [],
   "source": [
    "filtered = savgol_filter(tt, 7, 2)"
   ]
  },
  {
   "cell_type": "code",
   "execution_count": 23,
   "metadata": {},
   "outputs": [],
   "source": [
    "def local_extrema(a):\n",
    "    return np.r_[True, a[1:] < a[:-1]] & np.r_[a[:-1] < a[1:], True]"
   ]
  },
  {
   "cell_type": "code",
   "execution_count": 16,
   "metadata": {},
   "outputs": [],
   "source": [
    "plt.plot(xx, tt)\n",
    "plt.plot(xx, filtered)\n",
    "plt.show()"
   ]
  },
  {
   "cell_type": "code",
   "execution_count": null,
   "metadata": {},
   "outputs": [],
   "source": []
  },
  {
   "cell_type": "code",
   "execution_count": null,
   "metadata": {},
   "outputs": [],
   "source": []
  },
  {
   "cell_type": "code",
   "execution_count": 29,
   "metadata": {},
   "outputs": [],
   "source": [
    "skifile = sm.SkiFile(repo+fname)"
   ]
  },
  {
   "cell_type": "code",
   "execution_count": 14,
   "metadata": {},
   "outputs": [
    {
     "name": "stderr",
     "output_type": "stream",
     "text": [
      "   Saved /home/hoseung/Work/data/NH/mock_recipe_test/runs/test1/HQ_testing.ski\n",
      "15/04/2020 17:29:23.478   Saved /home/hoseung/Work/data/NH/mock_recipe_test/runs/test1/HQ_testing.ski\n"
     ]
    }
   ],
   "source": [
    "# Modifying ski file\n",
    "skifile = sm.SkiFile(repo+fname)\n",
    "skifile.setNumPrimaryPackets(1e9)\n",
    "fname = repo+\"HQ_testing.ski\"\n",
    "skifile.saveTo(fname)\n",
    "logging.info(\"Saved {}\".format(fname))"
   ]
  },
  {
   "cell_type": "markdown",
   "metadata": {},
   "source": [
    "## Runing SKIRT from Python -- (but doesn't work in this setting..)"
   ]
  },
  {
   "cell_type": "code",
   "execution_count": 19,
   "metadata": {
    "scrolled": true
   },
   "outputs": [
    {
     "name": "stderr",
     "output_type": "stream",
     "text": [
      "   Executing /home/hoseung/Work/data/NH/mock_recipe_test/runs/test1/try1.ski\n",
      "15/04/2020 18:31:44.079   Executing /home/hoseung/Work/data/NH/mock_recipe_test/runs/test1/try1.ski\n"
     ]
    },
    {
     "name": "stdout",
     "output_type": "stream",
     "text": [
      "15/04/2020 18:31:44.196   Welcome to SKIRT v9.0 (git d9c0c65 built on 13/02/2020 at 22:08:41)\n",
      "15/04/2020 18:31:44.197   Running on hoseung-P75-Creator-9SD for hoseung\n",
      "15/04/2020 18:31:44.197   Constructing a simulation from ski file '/home/hoseung/Work/data/NH/mock_recipe_test/runs/test1/try1.ski'...\n",
      "\u001b[31m15/04/2020 18:31:44.200 * *** Error: Error in XML stream '/home/hoseung/Work/data/NH/mock_recipe_test/runs/test1/try1.ski' at line 9\n",
      "\u001b[0m\u001b[31m15/04/2020 18:31:44.200 * *** Error: Item of type 'MonteCarloSimulation' has no property named 'cosmology'\n",
      "\u001b[0m\u001b[31m15/04/2020 18:31:44.200 * *** Error: On line 185 in file /home/hoseung/Work/SKIRT/git/SMILE/fundamentals/XmlReader.cpp\n",
      "\u001b[0m\u001b[31m15/04/2020 18:31:44.200 * *** Error: In function throwError\n",
      "\u001b[0m\u001b[31m15/04/2020 18:31:44.200 * *** Error: Call stack:\n",
      "\u001b[0m\u001b[31m15/04/2020 18:31:44.200 * *** Error: /home/hoseung/Work/SKIRT/release/SKIRT/main/skirt(_ZN10FatalErrorC2ENSt7__cxx1112basic_stringIcSt11char_traitsIcESaIcEEEPKciS7_+0x6fa) [0x564ab61ed2da]\n",
      "\u001b[0m\u001b[31m15/04/2020 18:31:44.200 * *** Error: /home/hoseung/Work/SKIRT/release/SKIRT/main/skirt(_ZN9XmlReader10throwErrorENSt7__cxx1112basic_stringIcSt11char_traitsIcESaIcEEE+0x143) [0x564ab61f9ce3]\n",
      "\u001b[0m\u001b[31m15/04/2020 18:31:44.200 * *** Error: /home/hoseung/Work/SKIRT/release/SKIRT/main/skirt(+0x12d3c3) [0x564ab61ae3c3]\n",
      "\u001b[0m\u001b[31m15/04/2020 18:31:44.200 * *** Error: /home/hoseung/Work/SKIRT/release/SKIRT/main/skirt(+0x12ef87) [0x564ab61aff87]\n",
      "\u001b[0m\u001b[31m15/04/2020 18:31:44.200 * *** Error: /home/hoseung/Work/SKIRT/release/SKIRT/main/skirt(_ZN19XmlHierarchyCreator8readFileEPK9SchemaDefNSt7__cxx1112basic_stringIcSt11char_traitsIcESaIcEEE+0xb4) [0x564ab61b0f14]\n",
      "\u001b[0m\u001b[31m15/04/2020 18:31:44.200 * *** Error: /home/hoseung/Work/SKIRT/release/SKIRT/main/skirt(_ZN23SkirtCommandLineHandler12doSimulationEm+0x50d) [0x564ab619d72d]\n",
      "\u001b[0m\u001b[31m15/04/2020 18:31:44.200 * *** Error: /home/hoseung/Work/SKIRT/release/SKIRT/main/skirt(_ZN23SkirtCommandLineHandler7doBatchEv+0x7e5) [0x564ab61a2225]\n",
      "\u001b[0m\u001b[31m15/04/2020 18:31:44.200 * *** Error: /home/hoseung/Work/SKIRT/release/SKIRT/main/skirt(_ZN23SkirtCommandLineHandler7performEv+0xe0) [0x564ab61a2b90]\n",
      "\u001b[0m\u001b[31m15/04/2020 18:31:44.200 * *** Error: /home/hoseung/Work/SKIRT/release/SKIRT/main/skirt(main+0xe1) [0x564ab6197f41]\n",
      "\u001b[0m\u001b[31m15/04/2020 18:31:44.200 * *** Error: /lib/x86_64-linux-gnu/libc.so.6(__libc_start_main+0xe7) [0x7fe9abd3db97]\n",
      "\u001b[0m\u001b[31m15/04/2020 18:31:44.200 * *** Error: /home/hoseung/Work/SKIRT/release/SKIRT/main/skirt(_start+0x2a) [0x564ab61982aa]\n",
      "\u001b[0m"
     ]
    }
   ],
   "source": [
    "# Performing SKIRT simulations\n",
    "logging.info(\"Executing {}\".format(repo+fname))\n",
    "skirt = sm.Skirt()\n",
    "simulation = skirt.execute(repo+fname, console='brief')"
   ]
  },
  {
   "cell_type": "markdown",
   "metadata": {},
   "source": [
    "## Starting from an already performed simulation result (not run in this Python instance)"
   ]
  },
  {
   "cell_type": "code",
   "execution_count": 11,
   "metadata": {},
   "outputs": [],
   "source": [
    "sim = sm.createSimulation(outDirPath=repo, prefix='try4')\n",
    "skifile = sim.parameters()"
   ]
  },
  {
   "cell_type": "code",
   "execution_count": 40,
   "metadata": {},
   "outputs": [
    {
     "name": "stderr",
     "output_type": "stream",
     "text": [
      "   Created /home/hoseung/Work/data/NH/mock_recipe_test/runs/test4/try1_sed.png\n",
      "15/04/2020 19:40:41.877   Created /home/hoseung/Work/data/NH/mock_recipe_test/runs/test4/try1_sed.png\n",
      "15/04/2020 19:40:41.877   Created /home/hoseung/Work/data/NH/mock_recipe_test/runs/test4/try1_sed.png\n"
     ]
    }
   ],
   "source": [
    "# SED plot\n",
    "micron = sm.unit(\"micron\")\n",
    "vis.plotSeds(sim, decades=4, figSize=(7,5), outFileName=\"try1_sed.png\")"
   ]
  },
  {
   "cell_type": "code",
   "execution_count": 45,
   "metadata": {},
   "outputs": [],
   "source": [
    "# Loading FITS files\n",
    "# Get the absolute path to the output file based on basic Sim info from sim instance.\n",
    "# indexing [0] for the first of possibly multiple intruments.\n",
    "totalfluxpath = sim.instruments()[0].outFilePaths(fileType=\"total.fits\")[0]\n",
    "# loadFits & getFitsAxes return 'astropy' quantities with units attached.\n",
    "datacube = sm.loadFits(totalfluxpath)\n",
    "x,y,wavelengths = sm.getFitsAxes(totalfluxpath)"
   ]
  },
  {
   "cell_type": "code",
   "execution_count": 55,
   "metadata": {},
   "outputs": [
    {
     "name": "stderr",
     "output_type": "stream",
     "text": [
      "   Observed frame has 1284 by 1284 pixels\n",
      "15/04/2020 19:51:30.837   Observed frame has 1284 by 1284 pixels\n",
      "15/04/2020 19:51:30.837   Observed frame has 1284 by 1284 pixels\n",
      "   Maximum surface brightness at 0.28182 micron is 8.70836e-13 W / (arcsec2 m2 micron)\n",
      "15/04/2020 19:51:30.840   Maximum surface brightness at 0.28182 micron is 8.70836e-13 W / (arcsec2 m2 micron)\n",
      "15/04/2020 19:51:30.840   Maximum surface brightness at 0.28182 micron is 8.70836e-13 W / (arcsec2 m2 micron)\n"
     ]
    }
   ],
   "source": [
    "frame = datacube[:,:,20]\n",
    "wavelength = wavelengths[20]\n",
    "logging.info(\"Observed frame has {} by {} pixels\".format(*frame.shape))\n",
    "logging.info(\"Maximum surface brightness at {:.5f} is {:.5e}\".format(wavelength, frame.max()))"
   ]
  },
  {
   "cell_type": "markdown",
   "metadata": {},
   "source": [
    "### reading probe outputs"
   ]
  },
  {
   "cell_type": "code",
   "execution_count": null,
   "metadata": {},
   "outputs": [],
   "source": [
    "for probe in simulation.probes():\n",
    "    if \"CellProperties\" in probe.type():\n",
    "        filepath = probe.outFilePaths()[0]\n",
    "        volume, density = sm.loadColumns(filepath, \"volume,dust mass density\")\n",
    "        mass = volume*density\n",
    "    if \"DustTemperaturePerCell\" in probe.type():\n",
    "        filepath = probe.outFilePaths()[0]\n",
    "        temperature, = sm.loadColumns(filepath, \"dust temperature\")\n",
    "Tavg = (mass*temperature).sum() / mass.sum()"
   ]
  },
  {
   "cell_type": "markdown",
   "metadata": {},
   "source": [
    "## RGB image\n",
    "\n",
    "Looking at pts/visual/do/make_images.py  \n",
    "Two use cases:\n",
    "1. Specify wavelength  \n",
    "2. Specify bands  \n",
    "\n",
    "Q: Any support for SB limit??\n"
   ]
  },
  {
   "cell_type": "code",
   "execution_count": 146,
   "metadata": {},
   "outputs": [
    {
     "data": {
      "text/plain": [
       "['maraston_zubkoHQ']"
      ]
     },
     "execution_count": 146,
     "metadata": {},
     "output_type": "execute_result"
    }
   ],
   "source": [
    "sim._parameters.instrumentNames()"
   ]
  },
  {
   "cell_type": "code",
   "execution_count": 142,
   "metadata": {},
   "outputs": [],
   "source": [
    "import shutil"
   ]
  },
  {
   "cell_type": "code",
   "execution_count": 148,
   "metadata": {},
   "outputs": [],
   "source": [
    "sim.skiFilePath()"
   ]
  },
  {
   "cell_type": "code",
   "execution_count": 171,
   "metadata": {},
   "outputs": [
    {
     "name": "stdout",
     "output_type": "stream",
     "text": [
      "/home/hoseung/Work/data/NH/mock_recipe_test/runs/test22/try22_blackbody_wein_LMCHQ_total.fits\n",
      "Empty fits 22\n",
      "No output? 23\n"
     ]
    },
    {
     "ename": "FileNotFoundError",
     "evalue": "[Errno 2] No such file or directory: '/home/hoseung/Work/data/NH/mock_recipe_test/runs/test22/try22_blackbody_wein_LMC_total.fits'",
     "output_type": "error",
     "traceback": [
      "\u001b[0;31m---------------------------------------------------------------------------\u001b[0m",
      "\u001b[0;31mFileNotFoundError\u001b[0m                         Traceback (most recent call last)",
      "\u001b[0;32m~/anaconda3/envs/hspy/lib/python3.7/shutil.py\u001b[0m in \u001b[0;36mmove\u001b[0;34m(src, dst, copy_function)\u001b[0m\n\u001b[1;32m    565\u001b[0m     \u001b[0;32mtry\u001b[0m\u001b[0;34m:\u001b[0m\u001b[0;34m\u001b[0m\u001b[0;34m\u001b[0m\u001b[0m\n\u001b[0;32m--> 566\u001b[0;31m         \u001b[0mos\u001b[0m\u001b[0;34m.\u001b[0m\u001b[0mrename\u001b[0m\u001b[0;34m(\u001b[0m\u001b[0msrc\u001b[0m\u001b[0;34m,\u001b[0m \u001b[0mreal_dst\u001b[0m\u001b[0;34m)\u001b[0m\u001b[0;34m\u001b[0m\u001b[0;34m\u001b[0m\u001b[0m\n\u001b[0m\u001b[1;32m    567\u001b[0m     \u001b[0;32mexcept\u001b[0m \u001b[0mOSError\u001b[0m\u001b[0;34m:\u001b[0m\u001b[0;34m\u001b[0m\u001b[0;34m\u001b[0m\u001b[0m\n",
      "\u001b[0;31mFileNotFoundError\u001b[0m: [Errno 2] No such file or directory: '/home/hoseung/Work/data/NH/mock_recipe_test/runs/test22/try22_blackbody_wein_LMC_total.fits' -> '/home/hoseung/Work/data/NH/mock_recipe_test/runs/test22/try22_blackbody_wein_LMCHQ_total.fits'",
      "\nDuring handling of the above exception, another exception occurred:\n",
      "\u001b[0;31mFileNotFoundError\u001b[0m                         Traceback (most recent call last)",
      "\u001b[0;32m<ipython-input-171-a174124ee99a>\u001b[0m in \u001b[0;36m<module>\u001b[0;34m\u001b[0m\n\u001b[1;32m     16\u001b[0m     \u001b[0mname_base\u001b[0m \u001b[0;34m=\u001b[0m \u001b[0mold_name\u001b[0m\u001b[0;34m.\u001b[0m\u001b[0mreplace\u001b[0m\u001b[0;34m(\u001b[0m\u001b[0;34m\"HQ\"\u001b[0m\u001b[0;34m,\u001b[0m \u001b[0;34m\"\"\u001b[0m\u001b[0;34m)\u001b[0m\u001b[0;34m\u001b[0m\u001b[0;34m\u001b[0m\u001b[0m\n\u001b[1;32m     17\u001b[0m     \u001b[0mshutil\u001b[0m\u001b[0;34m.\u001b[0m\u001b[0mmove\u001b[0m\u001b[0;34m(\u001b[0m\u001b[0mold_name\u001b[0m\u001b[0;34m,\u001b[0m \u001b[0mname_base\u001b[0m\u001b[0;34m.\u001b[0m\u001b[0mreplace\u001b[0m\u001b[0;34m(\u001b[0m\u001b[0;34m\"total\"\u001b[0m\u001b[0;34m,\u001b[0m \u001b[0;34m\"real_HQ_total\"\u001b[0m\u001b[0;34m)\u001b[0m\u001b[0;34m)\u001b[0m\u001b[0;34m\u001b[0m\u001b[0;34m\u001b[0m\u001b[0m\n\u001b[0;32m---> 18\u001b[0;31m     \u001b[0mshutil\u001b[0m\u001b[0;34m.\u001b[0m\u001b[0mmove\u001b[0m\u001b[0;34m(\u001b[0m\u001b[0mname_base\u001b[0m\u001b[0;34m,\u001b[0m \u001b[0mold_name\u001b[0m\u001b[0;34m)\u001b[0m\u001b[0;34m\u001b[0m\u001b[0;34m\u001b[0m\u001b[0m\n\u001b[0m\u001b[1;32m     19\u001b[0m \u001b[0;34m\u001b[0m\u001b[0m\n\u001b[1;32m     20\u001b[0m     \u001b[0;32mtry\u001b[0m\u001b[0;34m:\u001b[0m\u001b[0;34m\u001b[0m\u001b[0;34m\u001b[0m\u001b[0m\n",
      "\u001b[0;32m~/anaconda3/envs/hspy/lib/python3.7/shutil.py\u001b[0m in \u001b[0;36mmove\u001b[0;34m(src, dst, copy_function)\u001b[0m\n\u001b[1;32m    578\u001b[0m             \u001b[0mrmtree\u001b[0m\u001b[0;34m(\u001b[0m\u001b[0msrc\u001b[0m\u001b[0;34m)\u001b[0m\u001b[0;34m\u001b[0m\u001b[0;34m\u001b[0m\u001b[0m\n\u001b[1;32m    579\u001b[0m         \u001b[0;32melse\u001b[0m\u001b[0;34m:\u001b[0m\u001b[0;34m\u001b[0m\u001b[0;34m\u001b[0m\u001b[0m\n\u001b[0;32m--> 580\u001b[0;31m             \u001b[0mcopy_function\u001b[0m\u001b[0;34m(\u001b[0m\u001b[0msrc\u001b[0m\u001b[0;34m,\u001b[0m \u001b[0mreal_dst\u001b[0m\u001b[0;34m)\u001b[0m\u001b[0;34m\u001b[0m\u001b[0;34m\u001b[0m\u001b[0m\n\u001b[0m\u001b[1;32m    581\u001b[0m             \u001b[0mos\u001b[0m\u001b[0;34m.\u001b[0m\u001b[0munlink\u001b[0m\u001b[0;34m(\u001b[0m\u001b[0msrc\u001b[0m\u001b[0;34m)\u001b[0m\u001b[0;34m\u001b[0m\u001b[0;34m\u001b[0m\u001b[0m\n\u001b[1;32m    582\u001b[0m     \u001b[0;32mreturn\u001b[0m \u001b[0mreal_dst\u001b[0m\u001b[0;34m\u001b[0m\u001b[0;34m\u001b[0m\u001b[0m\n",
      "\u001b[0;32m~/anaconda3/envs/hspy/lib/python3.7/shutil.py\u001b[0m in \u001b[0;36mcopy2\u001b[0;34m(src, dst, follow_symlinks)\u001b[0m\n\u001b[1;32m    264\u001b[0m     \u001b[0;32mif\u001b[0m \u001b[0mos\u001b[0m\u001b[0;34m.\u001b[0m\u001b[0mpath\u001b[0m\u001b[0;34m.\u001b[0m\u001b[0misdir\u001b[0m\u001b[0;34m(\u001b[0m\u001b[0mdst\u001b[0m\u001b[0;34m)\u001b[0m\u001b[0;34m:\u001b[0m\u001b[0;34m\u001b[0m\u001b[0;34m\u001b[0m\u001b[0m\n\u001b[1;32m    265\u001b[0m         \u001b[0mdst\u001b[0m \u001b[0;34m=\u001b[0m \u001b[0mos\u001b[0m\u001b[0;34m.\u001b[0m\u001b[0mpath\u001b[0m\u001b[0;34m.\u001b[0m\u001b[0mjoin\u001b[0m\u001b[0;34m(\u001b[0m\u001b[0mdst\u001b[0m\u001b[0;34m,\u001b[0m \u001b[0mos\u001b[0m\u001b[0;34m.\u001b[0m\u001b[0mpath\u001b[0m\u001b[0;34m.\u001b[0m\u001b[0mbasename\u001b[0m\u001b[0;34m(\u001b[0m\u001b[0msrc\u001b[0m\u001b[0;34m)\u001b[0m\u001b[0;34m)\u001b[0m\u001b[0;34m\u001b[0m\u001b[0;34m\u001b[0m\u001b[0m\n\u001b[0;32m--> 266\u001b[0;31m     \u001b[0mcopyfile\u001b[0m\u001b[0;34m(\u001b[0m\u001b[0msrc\u001b[0m\u001b[0;34m,\u001b[0m \u001b[0mdst\u001b[0m\u001b[0;34m,\u001b[0m \u001b[0mfollow_symlinks\u001b[0m\u001b[0;34m=\u001b[0m\u001b[0mfollow_symlinks\u001b[0m\u001b[0;34m)\u001b[0m\u001b[0;34m\u001b[0m\u001b[0;34m\u001b[0m\u001b[0m\n\u001b[0m\u001b[1;32m    267\u001b[0m     \u001b[0mcopystat\u001b[0m\u001b[0;34m(\u001b[0m\u001b[0msrc\u001b[0m\u001b[0;34m,\u001b[0m \u001b[0mdst\u001b[0m\u001b[0;34m,\u001b[0m \u001b[0mfollow_symlinks\u001b[0m\u001b[0;34m=\u001b[0m\u001b[0mfollow_symlinks\u001b[0m\u001b[0;34m)\u001b[0m\u001b[0;34m\u001b[0m\u001b[0;34m\u001b[0m\u001b[0m\n\u001b[1;32m    268\u001b[0m     \u001b[0;32mreturn\u001b[0m \u001b[0mdst\u001b[0m\u001b[0;34m\u001b[0m\u001b[0;34m\u001b[0m\u001b[0m\n",
      "\u001b[0;32m~/anaconda3/envs/hspy/lib/python3.7/shutil.py\u001b[0m in \u001b[0;36mcopyfile\u001b[0;34m(src, dst, follow_symlinks)\u001b[0m\n\u001b[1;32m    118\u001b[0m         \u001b[0mos\u001b[0m\u001b[0;34m.\u001b[0m\u001b[0msymlink\u001b[0m\u001b[0;34m(\u001b[0m\u001b[0mos\u001b[0m\u001b[0;34m.\u001b[0m\u001b[0mreadlink\u001b[0m\u001b[0;34m(\u001b[0m\u001b[0msrc\u001b[0m\u001b[0;34m)\u001b[0m\u001b[0;34m,\u001b[0m \u001b[0mdst\u001b[0m\u001b[0;34m)\u001b[0m\u001b[0;34m\u001b[0m\u001b[0;34m\u001b[0m\u001b[0m\n\u001b[1;32m    119\u001b[0m     \u001b[0;32melse\u001b[0m\u001b[0;34m:\u001b[0m\u001b[0;34m\u001b[0m\u001b[0;34m\u001b[0m\u001b[0m\n\u001b[0;32m--> 120\u001b[0;31m         \u001b[0;32mwith\u001b[0m \u001b[0mopen\u001b[0m\u001b[0;34m(\u001b[0m\u001b[0msrc\u001b[0m\u001b[0;34m,\u001b[0m \u001b[0;34m'rb'\u001b[0m\u001b[0;34m)\u001b[0m \u001b[0;32mas\u001b[0m \u001b[0mfsrc\u001b[0m\u001b[0;34m:\u001b[0m\u001b[0;34m\u001b[0m\u001b[0;34m\u001b[0m\u001b[0m\n\u001b[0m\u001b[1;32m    121\u001b[0m             \u001b[0;32mwith\u001b[0m \u001b[0mopen\u001b[0m\u001b[0;34m(\u001b[0m\u001b[0mdst\u001b[0m\u001b[0;34m,\u001b[0m \u001b[0;34m'wb'\u001b[0m\u001b[0;34m)\u001b[0m \u001b[0;32mas\u001b[0m \u001b[0mfdst\u001b[0m\u001b[0;34m:\u001b[0m\u001b[0;34m\u001b[0m\u001b[0;34m\u001b[0m\u001b[0m\n\u001b[1;32m    122\u001b[0m                 \u001b[0mcopyfileobj\u001b[0m\u001b[0;34m(\u001b[0m\u001b[0mfsrc\u001b[0m\u001b[0;34m,\u001b[0m \u001b[0mfdst\u001b[0m\u001b[0;34m)\u001b[0m\u001b[0;34m\u001b[0m\u001b[0;34m\u001b[0m\u001b[0m\n",
      "\u001b[0;31mFileNotFoundError\u001b[0m: [Errno 2] No such file or directory: '/home/hoseung/Work/data/NH/mock_recipe_test/runs/test22/try22_blackbody_wein_LMC_total.fits'"
     ]
    }
   ],
   "source": [
    "for num in range(22, 49):\n",
    "    repo = f\"/home/hoseung/Work/data/NH/mock_recipe_test/runs/test{num}/\"\n",
    "    #fname = f\"try{num}_LQ.ski\"\n",
    "    try:\n",
    "        sim = sm.createSimulation(outDirPath=repo, prefix=f'try{num}')\n",
    "        skifile = sim.parameters()\n",
    "    except:\n",
    "        print(f\"No outputs in {num}\")\n",
    "        continue\n",
    "    \n",
    "    try:\n",
    "        totalfluxpath = sim.instruments()[0].outFilePaths(fileType=\"total.fits\")[0]\n",
    "    except:\n",
    "        print(\"No output?\", num)        \n",
    "    old_name = totalfluxpath.__str__()\n",
    "    name_base = old_name.replace(\"HQ\", \"\")\n",
    "    shutil.move(old_name, name_base.replace(\"total\", \"real_HQ_total\"))\n",
    "    shutil.move(name_base, old_name)\n",
    "\n",
    "    try:\n",
    "        sim = sm.createSimulation(outDirPath=repo, prefix=f'try{num}')\n",
    "        skifile = sim.parameters()\n",
    "    except:\n",
    "        print(f\"No outputs in {num}\")\n",
    "        continue\n",
    "    \n",
    "    try:\n",
    "        totalfluxpath = sim.instruments()[0].outFilePaths(fileType=\"total.fits\")[0]\n",
    "    except:\n",
    "        print(\"No output?\", num)\n",
    "        \n",
    "    print(totalfluxpath)\n",
    "    cube = sm.loadFits(totalfluxpath)# replace to force to load LQ output.\n",
    "    if cube.max() == 0:\n",
    "        print(\"Empty fits\", num)\n",
    "        continue\n",
    "\n",
    "    import pts.band as bnd\n",
    "    wavelengths = None\n",
    "\n",
    "    if wavelengths is not None:\n",
    "        tuples = { name: wavelengths << sm.unit(\"micron\") }\n",
    "        for sim in sims:\n",
    "            vis.makeRGBImages(sim, wavelengthTuples=tuples, fileType=type)\n",
    "\n",
    "    # try bands\n",
    "    colors = \"SDSS_Z,SDSS_R,SDSS_U\"#,2MASS_2MASS_H,2MASS_2MASS_J,2MASS_2MASS_KS\"\n",
    "    name = \"SDSS_RGB_LQ\"\n",
    "    output_type = \"total\"\n",
    "    segments = colors.split(',')\n",
    "    if len(segments) != 3:\n",
    "        raise ut.UserError(\"colors argument must have three comma-separated segments\")\n",
    "\n",
    "    try: bands = [ bnd.BroadBand(segment) for segment in segments ]\n",
    "    except ValueError: bands = None\n",
    "    if bands is not None:\n",
    "        contributions = [ (bands[0], 1, 0, 0), (bands[1], 0, 1, 0), (bands[1], 0, 0, 1) ]\n",
    "        # Could loop over sims\n",
    "        vis.makeConvolvedRGBImages(sim, contributions=contributions, fileType=output_type, name=name,\n",
    "                                  stretch=np.arcsinh, decades=5)\n",
    "        vis.makeConvolvedRGBImages(sim, contributions=contributions, fileType=output_type, name=name,\n",
    "                                  stretch='log', decades=5)    \n",
    "        \n",
    "    "
   ]
  },
  {
   "cell_type": "markdown",
   "metadata": {},
   "source": [
    "## .log file 지우면 안 됨.  한 directory에는 하나의 run만. "
   ]
  },
  {
   "cell_type": "code",
   "execution_count": 110,
   "metadata": {},
   "outputs": [],
   "source": [
    "sim = sm.Simulation(skiFilePath=repo+fname)"
   ]
  },
  {
   "cell_type": "code",
   "execution_count": 118,
   "metadata": {},
   "outputs": [
    {
     "data": {
      "text/plain": [
       "'/home/hoseung/Work/data/NH/mock_recipe_test/runs/test4/try4_maraston_zubkoHQ_total.fits'"
      ]
     },
     "execution_count": 118,
     "metadata": {},
     "output_type": "execute_result"
    }
   ],
   "source": [
    "totalfluxpath.__str__()"
   ]
  },
  {
   "cell_type": "code",
   "execution_count": null,
   "metadata": {},
   "outputs": [],
   "source": []
  },
  {
   "cell_type": "code",
   "execution_count": null,
   "metadata": {},
   "outputs": [],
   "source": []
  },
  {
   "cell_type": "code",
   "execution_count": 65,
   "metadata": {},
   "outputs": [
    {
     "data": {
      "text/plain": [
       "PosixPath('/home/hoseung/Work/data/NH/mock_recipe_test/runs/test4/try4_maraston_zubkoHQ_total.fits')"
      ]
     },
     "execution_count": 65,
     "metadata": {},
     "output_type": "execute_result"
    }
   ],
   "source": [
    "totalfluxpath"
   ]
  },
  {
   "cell_type": "code",
   "execution_count": 74,
   "metadata": {},
   "outputs": [
    {
     "data": {
      "text/plain": [
       "dict_keys(['2MASS_2MASS_H', '2MASS_2MASS_J', '2MASS_2MASS_KS', 'GALEX_GALEX_FUV', 'GALEX_GALEX_NUV', 'GENERIC_JOHNSON_B', 'GENERIC_JOHNSON_I', 'GENERIC_JOHNSON_J', 'GENERIC_JOHNSON_M', 'GENERIC_JOHNSON_R', 'GENERIC_JOHNSON_U', 'GENERIC_JOHNSON_V', 'HERSCHEL_PACS_100', 'HERSCHEL_PACS_160', 'HERSCHEL_PACS_70', 'HERSCHEL_SPIRE_250', 'HERSCHEL_SPIRE_350', 'HERSCHEL_SPIRE_500', 'IRAS_IRAS_100', 'IRAS_IRAS_12', 'IRAS_IRAS_25', 'IRAS_IRAS_60', 'SLOAN_SDSS_G', 'SLOAN_SDSS_I', 'SLOAN_SDSS_R', 'SLOAN_SDSS_U', 'SLOAN_SDSS_Z', 'SPITZER_IRAC_I1', 'SPITZER_IRAC_I2', 'SPITZER_IRAC_I3', 'SPITZER_IRAC_I4', 'SPITZER_MIPS_160', 'SPITZER_MIPS_24', 'SPITZER_MIPS_70', 'SWIFT_UVOT_B', 'SWIFT_UVOT_UVM2', 'SWIFT_UVOT_UVW1', 'SWIFT_UVOT_UVW2', 'SWIFT_UVOT_U', 'SWIFT_UVOT_V', 'TNG_NICS_H', 'TNG_NICS_J', 'TNG_NICS_K', 'TNG_OIG_B', 'TNG_OIG_R', 'TNG_OIG_U', 'TNG_OIG_V', 'UKIRT_UKIDSS_H', 'UKIRT_UKIDSS_J', 'UKIRT_UKIDSS_K', 'UKIRT_UKIDSS_Y', 'UKIRT_UKIDSS_Z', 'WISE_WISE_W1', 'WISE_WISE_W2', 'WISE_WISE_W3', 'WISE_WISE_W4', 'JCMT_SCUBA2_450', 'JCMT_SCUBA2_850', 'PLANCK_LFI_30', 'PLANCK_LFI_44', 'PLANCK_LFI_70', 'PLANCK_HFI_100', 'PLANCK_HFI_143', 'PLANCK_HFI_217', 'PLANCK_HFI_353', 'PLANCK_HFI_545', 'PLANCK_HFI_857', 'ALMA_ALMA_3', 'ALMA_ALMA_4', 'ALMA_ALMA_5', 'ALMA_ALMA_6', 'ALMA_ALMA_7', 'ALMA_ALMA_8', 'ALMA_ALMA_9', 'ALMA_ALMA_10'])"
      ]
     },
     "execution_count": 74,
     "metadata": {},
     "output_type": "execute_result"
    }
   ],
   "source": [
    "bnd.builtinBandNames()"
   ]
  },
  {
   "cell_type": "code",
   "execution_count": 6,
   "metadata": {},
   "outputs": [
    {
     "data": {
      "text/plain": [
       "'add'"
      ]
     },
     "execution_count": 6,
     "metadata": {},
     "output_type": "execute_result"
    }
   ],
   "source": [
    "np.add.__name__"
   ]
  },
  {
   "cell_type": "code",
   "execution_count": null,
   "metadata": {},
   "outputs": [],
   "source": []
  }
 ],
 "metadata": {
  "kernelspec": {
   "display_name": "Python 3.7.6 64-bit ('hspy': conda)",
   "language": "python",
   "name": "python37664bithspycondaf1b9afa9fd5c47a989947b56d492bb30"
  },
  "language_info": {
   "codemirror_mode": {
    "name": "ipython",
    "version": 3
   },
   "file_extension": ".py",
   "mimetype": "text/x-python",
   "name": "python",
   "nbconvert_exporter": "python",
   "pygments_lexer": "ipython3",
   "version": "3.7.7"
  },
  "toc": {
   "base_numbering": 1,
   "nav_menu": {},
   "number_sections": true,
   "sideBar": true,
   "skip_h1_title": false,
   "title_cell": "Table of Contents",
   "title_sidebar": "Contents",
   "toc_cell": false,
   "toc_position": {},
   "toc_section_display": true,
   "toc_window_display": false
  }
 },
 "nbformat": 4,
 "nbformat_minor": 4
}
